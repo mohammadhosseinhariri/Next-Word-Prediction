{
 "cells": [
  {
   "cell_type": "code",
   "execution_count": 2,
   "id": "5119c716-0c1e-42dc-9516-255d15396cad",
   "metadata": {},
   "outputs": [
    {
     "name": "stdout",
     "output_type": "stream",
     "text": [
      "فایل پردازش شد و در 'C:\\Users\\LENOVO\\Desktop\\prediction\\Data\\Maintext_cleaned.txt' ذخیره شد.\n"
     ]
    }
   ],
   "source": [
    "input_file = r'C:\\Users\\LENOVO\\Desktop\\prediction\\Data\\Maintext.txt'\n",
    "output_file = r'C:\\Users\\LENOVO\\Desktop\\prediction\\Data\\Maintext_cleaned.txt'\n",
    "\n",
    "try:\n",
    "\n",
    "    with open(input_file, 'r', encoding='utf-8') as file:\n",
    "        lines = file.readlines()\n",
    "\n",
    "    \n",
    "    cleaned_lines = []\n",
    "    for line in lines:\n",
    "        stripped_line = line.strip()  \n",
    "        if stripped_line:  \n",
    "            cleaned_lines.append(stripped_line)\n",
    "\n",
    "    \n",
    "    with open(output_file, 'w', encoding='utf-8') as file:\n",
    "        file.write(\" \".join(cleaned_lines))  \n",
    "\n",
    "    print(f\"فایل پردازش شد و در '{output_file}' ذخیره شد.\")\n",
    "\n",
    "except FileNotFoundError:\n",
    "    print(f\"Error: فایل '{input_file}' یافت نشد.\")\n"
   ]
  },
  {
   "cell_type": "code",
   "execution_count": null,
   "id": "1846c16e-cb3a-4d57-871c-b35b3559d300",
   "metadata": {},
   "outputs": [],
   "source": []
  }
 ],
 "metadata": {
  "kernelspec": {
   "display_name": "Python 3 (ipykernel)",
   "language": "python",
   "name": "python3"
  },
  "language_info": {
   "codemirror_mode": {
    "name": "ipython",
    "version": 3
   },
   "file_extension": ".py",
   "mimetype": "text/x-python",
   "name": "python",
   "nbconvert_exporter": "python",
   "pygments_lexer": "ipython3",
   "version": "3.12.2"
  }
 },
 "nbformat": 4,
 "nbformat_minor": 5
}
